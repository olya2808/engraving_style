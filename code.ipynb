{
  "nbformat": 4,
  "nbformat_minor": 0,
  "metadata": {
    "colab": {
      "name": "code",
      "provenance": []
    },
    "kernelspec": {
      "name": "python3",
      "display_name": "Python 3"
    },
    "language_info": {
      "name": "python"
    }
  },
  "cells": [
    {
      "cell_type": "code",
      "execution_count": null,
      "metadata": {
        "id": "OITtyOgWx9TP"
      },
      "outputs": [],
      "source": [
        "from google.colab import drive\n",
        "drive.mount('/content/gdrive', force_remount=True)"
      ]
    },
    {
      "cell_type": "code",
      "source": [
        "!cp /content/gdrive/\"My Drive\"/\"Диплом\"/\"pytorch-CycleGAN-and-pix2pix.zip\" .\n",
        "!unzip pytorch-CycleGAN-and-pix2pix.zip"
      ],
      "metadata": {
        "id": "HeDo8CLSyawX"
      },
      "execution_count": null,
      "outputs": []
    },
    {
      "cell_type": "code",
      "source": [
        "!cp /content/gdrive/\"My Drive\"/\"Диплом\"/\"engravingmedium.zip\" .\n",
        "!unzip engravingmedium.zip"
      ],
      "metadata": {
        "id": "5aOJGT8myc6t"
      },
      "execution_count": null,
      "outputs": []
    },
    {
      "cell_type": "code",
      "source": [
        "import os\n",
        "os.chdir('pytorch-CycleGAN-and-pix2pix/')"
      ],
      "metadata": {
        "id": "AoUY0QFCyoVr"
      },
      "execution_count": null,
      "outputs": []
    },
    {
      "cell_type": "code",
      "source": [
        "!pip install -r requirements.txt"
      ],
      "metadata": {
        "id": "A2VMd0LlyqI7"
      },
      "execution_count": null,
      "outputs": []
    },
    {
      "cell_type": "code",
      "source": [
        "!mkdir /content/pytorch-CycleGAN-and-pix2pix/datasets/engraving"
      ],
      "metadata": {
        "id": "-iX_Xa1nysYy"
      },
      "execution_count": null,
      "outputs": []
    },
    {
      "cell_type": "code",
      "source": [
        "!mkdir /content/pytorch-CycleGAN-and-pix2pix/datasets/engraving/trainA\n",
        "!mkdir /content/pytorch-CycleGAN-and-pix2pix/datasets/engraving/trainB\n",
        "!mkdir /content/pytorch-CycleGAN-and-pix2pix/datasets/engraving/testA\n",
        "!mkdir /content/pytorch-CycleGAN-and-pix2pix/datasets/engraving/testB"
      ],
      "metadata": {
        "id": "LhD75htnytw8"
      },
      "execution_count": null,
      "outputs": []
    },
    {
      "cell_type": "code",
      "source": [
        "import cv2\n",
        "import os\n",
        "\n",
        "def load_images_from_folder(folder):\n",
        "    images = []\n",
        "    for filename in os.listdir(folder):\n",
        "        img = cv2.imread(os.path.join(folder,filename),1)\n",
        "        if img is not None:\n",
        "            images.append(img)\n",
        "    return images\n",
        "def edit_images(path,start,newpath):\n",
        "    images = load_images_from_folder(path)\n",
        "    i = start\n",
        "    for img in images:\n",
        "       i+=1\n",
        "       size=(256,256)\n",
        "       resized_image = cv2.resize(img, size,  interpolation=cv2.INTER_AREA)\n",
        "       gray_img = cv2.cvtColor(resized_image, cv2.COLOR_BGR2GRAY)\n",
        "       cv2.imwrite(newpath +str(i)+\".jpg\",gray_img)\n",
        "    cv2.waitKey(0)\n",
        "    cv2.destroyAllWindows()\n",
        "    return\n",
        "edit_images(\"/content/engravingmedium/trainA\",0,\"/content/pytorch-CycleGAN-and-pix2pix/datasets/engraving/trainA/\")\n",
        "edit_images(\"/content/engravingmedium/trainB\",1000,\"/content/pytorch-CycleGAN-and-pix2pix/datasets/engraving/trainB/\")"
      ],
      "metadata": {
        "id": "pIOTXGOuyvlo"
      },
      "execution_count": null,
      "outputs": []
    },
    {
      "cell_type": "code",
      "source": [
        "import cv2\n",
        "import os\n",
        "\n",
        "def load_images_from_folder(folder):\n",
        "    images = []\n",
        "    for filename in os.listdir(folder):\n",
        "        img = cv2.imread(os.path.join(folder,filename),1)\n",
        "        if img is not None:\n",
        "            images.append(img)\n",
        "    return images\n",
        "def edit_images(path,start,newpath):\n",
        "    images = load_images_from_folder(path)\n",
        "    i = start\n",
        "    for img in images:\n",
        "       i+=1\n",
        "       gray_img = cv2.cvtColor(img, cv2.COLOR_BGR2GRAY)\n",
        "       cv2.imwrite(newpath +str(i)+\".jpg\",gray_img)\n",
        "    cv2.waitKey(0)\n",
        "    cv2.destroyAllWindows()\n",
        "    return\n",
        "edit_images(\"/content/engravingmedium/testA\",2000,\"/content/pytorch-CycleGAN-and-pix2pix/datasets/engraving/testA/\")\n",
        "edit_images(\"/content/engravingmedium/testB\",3000,\"/content/pytorch-CycleGAN-and-pix2pix/datasets/engraving/testB/\")"
      ],
      "metadata": {
        "id": "2uK5Q2Ory2xV"
      },
      "execution_count": null,
      "outputs": []
    },
    {
      "cell_type": "code",
      "source": [
        "!python train.py --dataroot /content/pytorch-CycleGAN-and-pix2pix/datasets/engraving --name  engraving_style --model cycle_gan --use_wandb --batch_size 1 --display_id 0 "
      ],
      "metadata": {
        "id": "PWRhND1sy9Mr"
      },
      "execution_count": null,
      "outputs": []
    },
    {
      "cell_type": "code",
      "source": [
        "!cp ./checkpoints/engraving_style/latest_net_G_B.pth ./checkpoints/engraving_style/latest_net_G.pth"
      ],
      "metadata": {
        "id": "FhVRjmIZzASJ"
      },
      "execution_count": null,
      "outputs": []
    },
    {
      "cell_type": "code",
      "source": [
        "!python test.py --dataroot /content/pytorch-CycleGAN-and-pix2pix/datasets/engraving/testB --name engraving_style --model test --no_dropout --use_wandb --preprocess none"
      ],
      "metadata": {
        "id": "J6l4YeuDzCjd"
      },
      "execution_count": null,
      "outputs": []
    }
  ]
}